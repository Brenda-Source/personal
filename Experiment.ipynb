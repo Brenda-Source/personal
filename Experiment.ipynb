{
 "cells": [
  {
   "cell_type": "code",
   "execution_count": 1,
   "metadata": {},
   "outputs": [],
   "source": [
    "import datetime\n",
    "import numpy as np\n",
    "import os\n",
    "import pandas as pd\n",
    "import urllib.request\n",
    "from urllib.request import urlopen\n",
    "import plotly.express as px\n",
    "import json\n",
    "import requests\n",
    "import matplotlib\n",
    "import matplotlib.pyplot as plt\n",
    "import matplotlib.colors as mcolors\n",
    "import matplotlib.cm as cm\n",
    "import seaborn as sns\n",
    "from folium import plugins\n",
    "from folium.plugins import HeatMap\n",
    "from scipy.stats import pearsonr\n",
    "from urllib.parse import quote\n",
    "import warnings\n",
    "warnings.filterwarnings('ignore')\n",
    "from matplotlib import pyplot, dates\n"
   ]
  },
  {
   "cell_type": "code",
   "execution_count": 2,
   "metadata": {},
   "outputs": [],
   "source": [
    "\n",
    "\n",
    "def weighted_score(df):\n",
    "    # Define weighting factor for number of errors\n",
    "    Penalty = 5\n",
    "   \n",
    "    # Calculate weighted score for each row\n",
    "    weighted_scores = []\n",
    "    for _, row in df.iterrows():\n",
    "         # Convert time object to secs\n",
    "        sec = row['Time'].minute * 60 + row['Time'].second + row['Time'].microsecond / 1000000\n",
    "\n",
    "        score = sec + row['Errors '] * Penalty\n",
    "        weighted_scores.append(score)\n",
    "\n",
    "    # Add a new column to the DataFrame with the weighted scores\n",
    "    df['weighted_score'] = weighted_scores\n",
    "    df['weighted Score (Minutes)'] = df['weighted_score'].apply(lambda x: x/60)\n",
    "    \n",
    "    return df"
   ]
  },
  {
   "cell_type": "code",
   "execution_count": 3,
   "metadata": {},
   "outputs": [
    {
     "data": {
      "text/plain": [
       "Index(['USER', 'Group ', 'Time', 'Errors '], dtype='object')"
      ]
     },
     "execution_count": 3,
     "metadata": {},
     "output_type": "execute_result"
    }
   ],
   "source": [
    "# Loading excel file \n",
    "from pandas import read_excel\n",
    "df_experiment = pd.read_excel('Experiment_prototype.xlsx')\n",
    "df_experiment.columns \n"
   ]
  },
  {
   "cell_type": "code",
   "execution_count": 4,
   "metadata": {},
   "outputs": [
    {
     "data": {
      "text/html": [
       "<div>\n",
       "<style scoped>\n",
       "    .dataframe tbody tr th:only-of-type {\n",
       "        vertical-align: middle;\n",
       "    }\n",
       "\n",
       "    .dataframe tbody tr th {\n",
       "        vertical-align: top;\n",
       "    }\n",
       "\n",
       "    .dataframe thead th {\n",
       "        text-align: right;\n",
       "    }\n",
       "</style>\n",
       "<table border=\"1\" class=\"dataframe\">\n",
       "  <thead>\n",
       "    <tr style=\"text-align: right;\">\n",
       "      <th></th>\n",
       "      <th>USER</th>\n",
       "      <th>Group</th>\n",
       "      <th>Time</th>\n",
       "      <th>Errors</th>\n",
       "      <th>weighted_score</th>\n",
       "      <th>weighted Score (Minutes)</th>\n",
       "    </tr>\n",
       "  </thead>\n",
       "  <tbody>\n",
       "    <tr>\n",
       "      <th>0</th>\n",
       "      <td>User 1</td>\n",
       "      <td>A</td>\n",
       "      <td>00:02:10</td>\n",
       "      <td>1</td>\n",
       "      <td>135.0</td>\n",
       "      <td>2.250000</td>\n",
       "    </tr>\n",
       "    <tr>\n",
       "      <th>1</th>\n",
       "      <td>User 2</td>\n",
       "      <td>B</td>\n",
       "      <td>00:01:59</td>\n",
       "      <td>0</td>\n",
       "      <td>119.0</td>\n",
       "      <td>1.983333</td>\n",
       "    </tr>\n",
       "    <tr>\n",
       "      <th>2</th>\n",
       "      <td>User 3</td>\n",
       "      <td>A</td>\n",
       "      <td>00:02:38</td>\n",
       "      <td>1</td>\n",
       "      <td>163.0</td>\n",
       "      <td>2.716667</td>\n",
       "    </tr>\n",
       "    <tr>\n",
       "      <th>3</th>\n",
       "      <td>User 4</td>\n",
       "      <td>B</td>\n",
       "      <td>00:02:13</td>\n",
       "      <td>0</td>\n",
       "      <td>133.0</td>\n",
       "      <td>2.216667</td>\n",
       "    </tr>\n",
       "    <tr>\n",
       "      <th>4</th>\n",
       "      <td>User 5</td>\n",
       "      <td>A</td>\n",
       "      <td>00:03:36</td>\n",
       "      <td>2</td>\n",
       "      <td>226.0</td>\n",
       "      <td>3.766667</td>\n",
       "    </tr>\n",
       "    <tr>\n",
       "      <th>5</th>\n",
       "      <td>User 6</td>\n",
       "      <td>A</td>\n",
       "      <td>00:02:23</td>\n",
       "      <td>0</td>\n",
       "      <td>143.0</td>\n",
       "      <td>2.383333</td>\n",
       "    </tr>\n",
       "    <tr>\n",
       "      <th>6</th>\n",
       "      <td>User 7</td>\n",
       "      <td>B</td>\n",
       "      <td>00:03:42</td>\n",
       "      <td>1</td>\n",
       "      <td>227.0</td>\n",
       "      <td>3.783333</td>\n",
       "    </tr>\n",
       "    <tr>\n",
       "      <th>7</th>\n",
       "      <td>User 8</td>\n",
       "      <td>B</td>\n",
       "      <td>00:02:03</td>\n",
       "      <td>1</td>\n",
       "      <td>128.0</td>\n",
       "      <td>2.133333</td>\n",
       "    </tr>\n",
       "    <tr>\n",
       "      <th>8</th>\n",
       "      <td>User 9</td>\n",
       "      <td>A</td>\n",
       "      <td>00:03:13</td>\n",
       "      <td>0</td>\n",
       "      <td>193.0</td>\n",
       "      <td>3.216667</td>\n",
       "    </tr>\n",
       "    <tr>\n",
       "      <th>9</th>\n",
       "      <td>User 10</td>\n",
       "      <td>B</td>\n",
       "      <td>00:06:29</td>\n",
       "      <td>2</td>\n",
       "      <td>399.0</td>\n",
       "      <td>6.650000</td>\n",
       "    </tr>\n",
       "  </tbody>\n",
       "</table>\n",
       "</div>"
      ],
      "text/plain": [
       "      USER Group       Time  Errors   weighted_score  weighted Score (Minutes)\n",
       "0   User 1      A  00:02:10        1           135.0                  2.250000\n",
       "1   User 2      B  00:01:59        0           119.0                  1.983333\n",
       "2   User 3      A  00:02:38        1           163.0                  2.716667\n",
       "3   User 4      B  00:02:13        0           133.0                  2.216667\n",
       "4   User 5      A  00:03:36        2           226.0                  3.766667\n",
       "5   User 6      A  00:02:23        0           143.0                  2.383333\n",
       "6   User 7      B  00:03:42        1           227.0                  3.783333\n",
       "7   User 8      B  00:02:03        1           128.0                  2.133333\n",
       "8   User 9      A  00:03:13        0           193.0                  3.216667\n",
       "9  User 10      B  00:06:29        2           399.0                  6.650000"
      ]
     },
     "execution_count": 4,
     "metadata": {},
     "output_type": "execute_result"
    }
   ],
   "source": [
    "df_weight = weighted_score(df_experiment)\n",
    "df_weight"
   ]
  },
  {
   "cell_type": "code",
   "execution_count": 5,
   "metadata": {},
   "outputs": [
    {
     "name": "stdout",
     "output_type": "stream",
     "text": [
      "Group A:\n",
      "     USER Group       Time  Errors   weighted_score  weighted Score (Minutes)\n",
      "0  User 1      A  00:02:10        1           135.0                  2.250000\n",
      "2  User 3      A  00:02:38        1           163.0                  2.716667\n",
      "4  User 5      A  00:03:36        2           226.0                  3.766667\n",
      "5  User 6      A  00:02:23        0           143.0                  2.383333\n",
      "8  User 9      A  00:03:13        0           193.0                  3.216667\n",
      "Group B:\n",
      "      USER Group       Time  Errors   weighted_score  weighted Score (Minutes)\n",
      "1   User 2      B  00:01:59        0           119.0                  1.983333\n",
      "3   User 4      B  00:02:13        0           133.0                  2.216667\n",
      "6   User 7      B  00:03:42        1           227.0                  3.783333\n",
      "7   User 8      B  00:02:03        1           128.0                  2.133333\n",
      "9  User 10      B  00:06:29        2           399.0                  6.650000\n"
     ]
    }
   ],
   "source": [
    "# Group the dataframe by the condition\n",
    "# A = Linegraph\n",
    "# B = Barplot \n",
    "\n",
    "grouped = df_weight.groupby('Group ')\n",
    "\n",
    "# access the groups using the get_group method\n",
    "Group_A = grouped.get_group('A')\n",
    "Group_B = grouped.get_group('B')\n",
    "\n",
    "# print the resulting groups\n",
    "print(\"Group A:\")\n",
    "print(Group_A)\n",
    "\n",
    "print(\"Group B:\")\n",
    "print(Group_B)"
   ]
  },
  {
   "cell_type": "code",
   "execution_count": 6,
   "metadata": {},
   "outputs": [
    {
     "data": {
      "text/plain": [
       "<AxesSubplot: xlabel='Time_Float', ylabel='Errors '>"
      ]
     },
     "execution_count": 6,
     "metadata": {},
     "output_type": "execute_result"
    },
    {
     "data": {
      "image/png": "[encoded data removed]",
      "text/plain": [
       "<Figure size 1000x800 with 1 Axes>"
      ]
     },
     "metadata": {},
     "output_type": "display_data"
    }
   ],
   "source": [
    "# Linear - Line of best fit\n",
    "import seaborn as sns\n",
    "\n",
    "plt.rcParams.update({'figure.figsize':(10,8), 'figure.dpi':100})\n",
    "#sns.lmplot(x='Errors ', y='Time',hue='Group ', data=df_experiment);\n",
    "# assume df_experiment contains columns \"Time\" and \"Errors\"\n",
    "df_experiment['Time_Float'] = df_experiment['Time'].apply(lambda x: datetime.datetime.combine(datetime.date.today(), x).timestamp())\n",
    "\n",
    "\n",
    "# Create the scatter plot\n",
    "sns.scatterplot(data=df_experiment, x='Time_Float', y='Errors ', hue='Group ')\n"
   ]
  },
  {
   "cell_type": "code",
   "execution_count": 7,
   "metadata": {},
   "outputs": [
    {
     "name": "stdout",
     "output_type": "stream",
     "text": [
      "Mann-Whitney U statistic:  15.0\n",
      "p-value:  0.6904761904761905\n"
     ]
    }
   ],
   "source": [
    "# MANN-WHITNEY U TEST\n",
    "# Non-parametric\n",
    "\n",
    "from scipy.stats import mannwhitneyu\n",
    "\n",
    "# Converted weighted score column to array \n",
    "A = Group_A['weighted_score'].to_numpy()\n",
    "B = Group_B['weighted_score'].to_numpy()\n",
    "\n",
    "# perform Mann-Whitney U test\n",
    "statistic, pvalue = mannwhitneyu(A,B)\n",
    "\n",
    "# print the results\n",
    "print(\"Mann-Whitney U statistic: \", statistic)\n",
    "print(\"p-value: \", pvalue)\n",
    "\n",
    "\n",
    "# Based on the Mann-Whitney U test, the U statistic is 15.0 and the p-value is 0.690, \n",
    "# indicating that there is no significant difference between \n",
    "# the two groups in terms of their task completion time."
   ]
  },
  {
   "cell_type": "code",
   "execution_count": 17,
   "metadata": {},
   "outputs": [
    {
     "data": {
      "text/plain": [
       "163.0"
      ]
     },
     "execution_count": 17,
     "metadata": {},
     "output_type": "execute_result"
    }
   ],
   "source": [
    "Group_A[\"weighted_score\"].median()\n"
   ]
  },
  {
   "cell_type": "code",
   "execution_count": 16,
   "metadata": {},
   "outputs": [
    {
     "data": {
      "text/plain": [
       "133.0"
      ]
     },
     "execution_count": 16,
     "metadata": {},
     "output_type": "execute_result"
    }
   ],
   "source": [
    "Group_B[\"weighted_score\"].median()"
   ]
  },
  {
   "cell_type": "code",
   "execution_count": 8,
   "metadata": {},
   "outputs": [
    {
     "data": {
      "image/png": "[encoded data removed]",
      "text/plain": [
       "<Figure size 1000x800 with 1 Axes>"
      ]
     },
     "metadata": {},
     "output_type": "display_data"
    }
   ],
   "source": [
    "# Boxplot\n",
    "\n",
    "sns.boxplot(x='Group ', y='weighted_score', data=df_weight)\n",
    "\n",
    "\n",
    "plt.title('Total task completion time by group')\n",
    "plt.xlabel('Group A (Lineplot) vs Group B (Barplot)')\n",
    "plt.ylabel('Time (seconds)')\n",
    "plt.show()\n"
   ]
  },
  {
   "attachments": {},
   "cell_type": "markdown",
   "metadata": {},
   "source": [
    "Feedback \n"
   ]
  },
  {
   "cell_type": "code",
   "execution_count": null,
   "metadata": {},
   "outputs": [],
   "source": [
    "# Loading thetext\n"
   ]
  },
  {
   "cell_type": "code",
   "execution_count": null,
   "metadata": {},
   "outputs": [],
   "source": [
    "# Import packages\n",
    "import re\n",
    "import matplotlib.pyplot as plt\n",
    "from wordcloud import WordCloud, STOPWORDS\n",
    "\n",
    "# Clean text\n",
    "text = re.sub(r'==.*?==+', '', text)\n",
    "text = text.replace('\\n', '')\n",
    "\n",
    "\n",
    "# Import package\n",
    "\n",
    "# Define a function to plot word cloud\n",
    "def plot_cloud(wordcloud):\n",
    "    # Set figure size\n",
    "    plt.figure(figsize=(40, 30))\n",
    "    # Display image\n",
    "    plt.imshow(wordcloud) \n",
    "    # No axis details\n",
    "    plt.axis(\"off\");\n",
    "\n",
    "\n",
    "\n",
    "# Generate word cloud\n",
    "wordcloud = WordCloud(width= 3000, height = 2000, random_state=1, background_color='salmon', colormap='Pastel1', collocations=False, stopwords = STOPWORDS).generate(text)\n",
    "# Plot\n",
    "plot_cloud(wordcloud)"
   ]
  }
 ],
 "metadata": {
  "kernelspec": {
   "display_name": "Python 3",
   "language": "python",
   "name": "python3"
  },
  "language_info": {
   "codemirror_mode": {
    "name": "ipython",
    "version": 3
   },
   "file_extension": ".py",
   "mimetype": "text/x-python",
   "name": "python",
   "nbconvert_exporter": "python",
   "pygments_lexer": "ipython3",
   "version": "3.11.1"
  },
  "orig_nbformat": 4
 },
 "nbformat": 4,
 "nbformat_minor": 2
}
